{
 "cells": [
  {
   "cell_type": "markdown",
   "id": "e9ea8761",
   "metadata": {},
   "source": [
    "# DESCRIPTION"
   ]
  },
  {
   "cell_type": "markdown",
   "id": "8242f65c",
   "metadata": {},
   "source": [
    "Building a system to change text to speech"
   ]
  },
  {
   "cell_type": "markdown",
   "id": "1f5be412",
   "metadata": {},
   "source": [
    "# PROCESS"
   ]
  },
  {
   "cell_type": "markdown",
   "id": "5f7af162",
   "metadata": {},
   "source": [
    "0. Install dependencies"
   ]
  },
  {
   "cell_type": "code",
   "execution_count": 1,
   "id": "3b08d439",
   "metadata": {},
   "outputs": [],
   "source": [
    "#done already"
   ]
  },
  {
   "cell_type": "markdown",
   "id": "2fe31ab6",
   "metadata": {},
   "source": [
    "1. AUTHENTICATE"
   ]
  },
  {
   "cell_type": "code",
   "execution_count": 9,
   "id": "33aa28b3",
   "metadata": {},
   "outputs": [],
   "source": [
    "url = 'https://api.eu-gb.text-to-speech.watson.cloud.ibm.com/instances/d04b5ea5-e6b9-4eba-b127-94c30a27cec5'\n",
    "apikey = 'McPLvaUHWywOhceFBH4i7fG38nRm42el297e8DYkGLfp'"
   ]
  },
  {
   "cell_type": "code",
   "execution_count": 13,
   "id": "cd24c564",
   "metadata": {},
   "outputs": [],
   "source": [
    "from ibm_watson import TextToSpeechV1\n",
    "from ibm_cloud_sdk_core.authenticators import IAMAuthenticator"
   ]
  },
  {
   "cell_type": "code",
   "execution_count": 14,
   "id": "84fc34b1",
   "metadata": {},
   "outputs": [],
   "source": [
    "#setup service\n",
    "authenticator = IAMAuthenticator(apikey)\n",
    "#tts setrvice\n",
    "tts = TextToSpeechV1(authenticator=authenticator)\n",
    "#service url\n",
    "tts.set_service_url(url)"
   ]
  },
  {
   "cell_type": "markdown",
   "id": "7eeb71e9",
   "metadata": {},
   "source": [
    "2. convert a string"
   ]
  },
  {
   "cell_type": "code",
   "execution_count": 25,
   "id": "fef6ffa0",
   "metadata": {},
   "outputs": [],
   "source": [
    "with open('./speech_string.mp3','wb') as audio_file:\n",
    "    res = tts.synthesize('Hello Mr. Ekomobong!', accept='audio/mp3', voice='en-US_AllisonV3Voice').get_result()\n",
    "    audio_file.write(res.content)"
   ]
  },
  {
   "cell_type": "markdown",
   "id": "8b7cbc2a",
   "metadata": {},
   "source": [
    "3. convert from a file"
   ]
  },
  {
   "cell_type": "code",
   "execution_count": 31,
   "id": "bee1026e",
   "metadata": {},
   "outputs": [],
   "source": [
    "with open('gpu.txt','r') as f:\n",
    "    text = f.readlines()"
   ]
  },
  {
   "cell_type": "code",
   "execution_count": 32,
   "id": "5a6fdd7b",
   "metadata": {},
   "outputs": [
    {
     "data": {
      "text/plain": [
       "['Gpu is called a graphical process unit they are also called graphic cards or video cards.\\n',\n",
       " 'Computers use them to render images, video, 2d and 3d animations. A gpu performs quick maths and calculations thereby\\n',\n",
       " 'freeing the CPU up tomperform important duties like\\n',\n",
       " 'processing information. Wher a cpu has only a few cores focused on sequential series processing(understanding instructions in a particular order)\\n',\n",
       " 'GPUs have thousands of smaller cores made for processing\\n',\n",
       " 'How GPUs assist in ML\\n',\n",
       " 'Even though CPUs and GPUs both serve as processing units and are capable of building neural networks but GPUs are better because of their ability to perform parrallel \\n',\n",
       " 'computations which is neccesary in neural networks for calculating weights etc..\\n',\n",
       " 'popular free GPUs\\n',\n",
       " \"now getting a GPU for something like practice etc. isn't feasible so it is better you use free server rendered GPUs\\n\",\n",
       " 'and the most easiest to use out there are from kaggle, Gooogle COLLAB. But if you want to get your own there are a lot of low end ones in the market such as:\\n',\n",
       " 'NVIDIA, GT740M, VRAM etc.\\n',\n",
       " '(collab link), kaggle(link).\\n',\n",
       " 'Best situations to use GPUs:\\n',\n",
       " 'when you are working with big data, when you are working with complex ML problems that require deep learning., when you are managing larger and more complex tasks which require scalability.\\n',\n",
       " '  ']"
      ]
     },
     "execution_count": 32,
     "metadata": {},
     "output_type": "execute_result"
    }
   ],
   "source": [
    "text"
   ]
  },
  {
   "cell_type": "code",
   "execution_count": 33,
   "id": "80d5c433",
   "metadata": {},
   "outputs": [],
   "source": [
    "text = [line.replace('\\n', '') for line in text]\n",
    "text = ''.join(str(line)for line in text)"
   ]
  },
  {
   "cell_type": "code",
   "execution_count": 34,
   "id": "5bee9263",
   "metadata": {},
   "outputs": [
    {
     "data": {
      "text/plain": [
       "\"Gpu is called a graphical process unit they are also called graphic cards or video cards.Computers use them to render images, video, 2d and 3d animations. A gpu performs quick maths and calculations therebyfreeing the CPU up tomperform important duties likeprocessing information. Wher a cpu has only a few cores focused on sequential series processing(understanding instructions in a particular order)GPUs have thousands of smaller cores made for processingHow GPUs assist in MLEven though CPUs and GPUs both serve as processing units and are capable of building neural networks but GPUs are better because of their ability to perform parrallel computations which is neccesary in neural networks for calculating weights etc..popular free GPUsnow getting a GPU for something like practice etc. isn't feasible so it is better you use free server rendered GPUsand the most easiest to use out there are from kaggle, Gooogle COLLAB. But if you want to get your own there are a lot of low end ones in the market such as:NVIDIA, GT740M, VRAM etc.(collab link), kaggle(link).Best situations to use GPUs:when you are working with big data, when you are working with complex ML problems that require deep learning., when you are managing larger and more complex tasks which require scalability.  \""
      ]
     },
     "execution_count": 34,
     "metadata": {},
     "output_type": "execute_result"
    }
   ],
   "source": [
    "text"
   ]
  },
  {
   "cell_type": "code",
   "execution_count": 37,
   "id": "3fd73932",
   "metadata": {},
   "outputs": [],
   "source": [
    "with open('./speech_file.mp3', 'wb') as audio_file:\n",
    "    res = tts.synthesize(text, accept='audio/mp3', voice='en-US_KevinV3Voice').get_result()\n",
    "    audio_file.write(res.content)"
   ]
  },
  {
   "cell_type": "markdown",
   "id": "13d4c2d4",
   "metadata": {},
   "source": [
    "4. using new language models"
   ]
  },
  {
   "cell_type": "code",
   "execution_count": 38,
   "id": "e4650cde",
   "metadata": {},
   "outputs": [],
   "source": [
    "#converting to new language(french)"
   ]
  },
  {
   "cell_type": "code",
   "execution_count": 39,
   "id": "9337af97",
   "metadata": {},
   "outputs": [],
   "source": [
    "with open('./speech_file(french).mp3', 'wb') as audio_file:\n",
    "    res = tts.synthesize(text, accept='audio/mp3', voice='fr-FR_ReneeV3Voice').get_result()\n",
    "    audio_file.write(res.content)"
   ]
  },
  {
   "cell_type": "code",
   "execution_count": null,
   "id": "941fc462",
   "metadata": {},
   "outputs": [],
   "source": []
  }
 ],
 "metadata": {
  "kernelspec": {
   "display_name": "Python 3",
   "language": "python",
   "name": "python3"
  },
  "language_info": {
   "codemirror_mode": {
    "name": "ipython",
    "version": 3
   },
   "file_extension": ".py",
   "mimetype": "text/x-python",
   "name": "python",
   "nbconvert_exporter": "python",
   "pygments_lexer": "ipython3",
   "version": "3.8.8"
  }
 },
 "nbformat": 4,
 "nbformat_minor": 5
}
